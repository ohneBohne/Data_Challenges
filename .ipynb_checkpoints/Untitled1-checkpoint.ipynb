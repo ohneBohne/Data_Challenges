{
 "cells": [
  {
   "cell_type": "markdown",
   "metadata": {},
   "source": [
    "Import libraries and key to access twitter. Keys and tokens can be gerated with an twitter account at https://developer.twitter.com/en/portal/dashboard"
   ]
  },
  {
   "cell_type": "code",
   "execution_count": 1,
   "metadata": {},
   "outputs": [],
   "source": [
    "from keys import *\n",
    "import tweepy"
   ]
  },
  {
   "cell_type": "markdown",
   "metadata": {},
   "source": [
    "create client to access the twitter API\n",
    "Following tutorial: https://www.kirenz.com/post/2021-12-10-twitter-api-v2-tweepy-and-pandas-in-python/twitter-api-v2-tweepy-and-pandas-in-python/"
   ]
  },
  {
   "cell_type": "code",
   "execution_count": 2,
   "metadata": {},
   "outputs": [],
   "source": [
    "import requests\n",
    "\n",
    "client = tweepy.Client( bearer_token=bearer_token, \n",
    "                        consumer_key=consumer_key, \n",
    "                        consumer_secret=consumer_secret, \n",
    "                        access_token=access_token, \n",
    "                        access_token_secret=access_token_secret, \n",
    "                        return_type = requests.Response,\n",
    "                        wait_on_rate_limit=True)\n"
   ]
  },
  {
   "cell_type": "markdown",
   "metadata": {},
   "source": [
    "How to create queries https://medium.com/@robguilarr/making-queries-to-twitter-api-on-tweepy-66afeb7184a4"
   ]
  },
  {
   "cell_type": "code",
   "execution_count": 10,
   "metadata": {},
   "outputs": [],
   "source": [
    "# Define query\n",
    "query = '@db_bahn Fahrrad'\n",
    "\n",
    "# get max. 10 tweets\n",
    "tweets = client.search_recent_tweets(query=query, \n",
    "                                    tweet_fields=['attachments',\n",
    "'author_id',\n",
    "'context_annotations',\n",
    "'conversation_id',\n",
    "'created_at',\n",
    "'geo',\n",
    "'id',\n",
    "'in_reply_to_user_id',\n",
    "'lang',\n",
    "'public_metrics',\n",
    "'referenced_tweets',\n",
    "'text'],\n",
    "                                     max_results=10)\n"
   ]
  },
  {
   "cell_type": "code",
   "execution_count": 7,
   "metadata": {},
   "outputs": [
    {
     "data": {
      "text/plain": [
       "{'data': [{'text': '@MartinBulka @EWITEU @wortezimmer @stadt_halle Ja, kein sicherer Parkplatz für das #Fahrrad über Nacht. Da muss Mensch Kompromisse (nicht nur bei der Beinfreiheit) machen und neben der @DB_Bahn (wo ich so st kostenfrei das Rad mitnehmen kann)auch die #HAVAG nehmen. Für insg. 9,60 € Fahrscheine hätte ich lieber sicher geparkt',\n",
       "   'created_at': '2022-04-30T06:54:55.000Z',\n",
       "   'public_metrics': {'retweet_count': 0,\n",
       "    'reply_count': 0,\n",
       "    'like_count': 1,\n",
       "    'quote_count': 0},\n",
       "   'id': '1520295615007186944',\n",
       "   'in_reply_to_user_id': '1184891265923665920',\n",
       "   'author_id': '176794043'},\n",
       "  {'text': '@DBRegio_BW @DB_Bahn wie sieht das im Nahverkehr eigentlich bei der Mitnahme eines Tretrollers aus? \\nMuss ich den als Fahrrad bezahlen oder darf der so mit? \\nWürde mich über eine verbindliche Auskunft freuen. \\nDanke \\nMarkus der Mäusegaukler',\n",
       "   'created_at': '2022-04-28T21:48:01.000Z',\n",
       "   'public_metrics': {'retweet_count': 0,\n",
       "    'reply_count': 1,\n",
       "    'like_count': 0,\n",
       "    'quote_count': 0},\n",
       "   'id': '1519795597670330368',\n",
       "   'in_reply_to_user_id': '973940217508958208',\n",
       "   'author_id': '2880354599'},\n",
       "  {'text': '@jEhoppe @DB_Info @DB_Presse @DB_Bahn Wofür braucht man die Comfort Hotline außer für Fahrrad Reservierungen?',\n",
       "   'created_at': '2022-04-28T21:04:11.000Z',\n",
       "   'public_metrics': {'retweet_count': 0,\n",
       "    'reply_count': 1,\n",
       "    'like_count': 1,\n",
       "    'quote_count': 0},\n",
       "   'id': '1519784565908377601',\n",
       "   'in_reply_to_user_id': '41668402',\n",
       "   'author_id': '43671680'},\n",
       "  {'text': 'RT @NKI_BMU: Umweltfreundliche #Mobilität ist ein Schlüsselfaktor für die Erreichung der #Klimaschutzziele. Die Bike+Ride-Offensive der @DB…',\n",
       "   'created_at': '2022-04-28T15:21:30.000Z',\n",
       "   'public_metrics': {'retweet_count': 1,\n",
       "    'reply_count': 0,\n",
       "    'like_count': 0,\n",
       "    'quote_count': 0},\n",
       "   'id': '1519698325796233219',\n",
       "   'author_id': '1003943733447061504'},\n",
       "  {'text': 'Laut Buchungsportal der Bahn für den #EC172 keine Fahrradreservierung mehr möglich, weil ausgebucht. Realität auf dem Foto unten: kein einziges #Fahrrad im Zug, auch keine Reservierungen angezeigt. Das ist absolut nicht ok, @DB_Bahn https://t.co/6DmdfnwTiP',\n",
       "   'created_at': '2022-04-28T15:09:15.000Z',\n",
       "   'public_metrics': {'retweet_count': 0,\n",
       "    'reply_count': 1,\n",
       "    'like_count': 9,\n",
       "    'quote_count': 0},\n",
       "   'id': '1519695244681437185',\n",
       "   'author_id': '3208534395'},\n",
       "  {'text': 'Umweltfreundliche #Mobilität ist ein Schlüsselfaktor für die Erreichung der #Klimaschutzziele. Die Bike+Ride-Offensive der @DB_Bahn &amp; #NKI schafft attraktive Rahmenbedingungen, um #Kommunen bei der Errichtung von #Fahrrad |abstellanlagen zu unterstützen 🌐 https://t.co/aSUC4xaQNE https://t.co/L8brGkQ6D5',\n",
       "   'created_at': '2022-04-28T15:01:37.000Z',\n",
       "   'public_metrics': {'retweet_count': 1,\n",
       "    'reply_count': 0,\n",
       "    'like_count': 3,\n",
       "    'quote_count': 0},\n",
       "   'id': '1519693324185178114',\n",
       "   'author_id': '1285392511'},\n",
       "  {'text': 'Von Köln nach Stuttgart in nur 5h mit dem ICR der @DB_Bahn \\nDanke dafür, nächstes mal wohl lieber Fahrrad, dauert genauso lang und spart einiges an Geld. Schiebt euch euer Freigetränk bei so einer Verspätung und ohne alternative sonst wo hin #DBakel #DB',\n",
       "   'created_at': '2022-04-28T14:03:42.000Z',\n",
       "   'public_metrics': {'retweet_count': 0,\n",
       "    'reply_count': 0,\n",
       "    'like_count': 0,\n",
       "    'quote_count': 0},\n",
       "   'id': '1519678749670887424',\n",
       "   'author_id': '1337426703979843595'},\n",
       "  {'text': '@BromptonBicycle und die #dbconnect starten ein Pilotprojekt in Stuttgart! 🚴 🤝\\n\\nhttps://t.co/NKVoBYMiHj\\n\\n📷 @BromptonBicycle / DB\\n\\n@DB_Bahn https://t.co/KJaA97Oknz',\n",
       "   'created_at': '2022-04-27T09:43:28.000Z',\n",
       "   'public_metrics': {'retweet_count': 0,\n",
       "    'reply_count': 0,\n",
       "    'like_count': 0,\n",
       "    'quote_count': 0},\n",
       "   'id': '1519250869962821632',\n",
       "   'in_reply_to_user_id': '127551449',\n",
       "   'author_id': '384744271'},\n",
       "  {'text': '@DB_Bahn könnt ihr mir sagen wie ich in der IOS App ein Fahrrad Ticket kaufen kann? Besten Dank',\n",
       "   'created_at': '2022-04-27T07:21:51.000Z',\n",
       "   'public_metrics': {'retweet_count': 0,\n",
       "    'reply_count': 1,\n",
       "    'like_count': 0,\n",
       "    'quote_count': 0},\n",
       "   'id': '1519215229716074496',\n",
       "   'in_reply_to_user_id': '39999078',\n",
       "   'author_id': '1223020946'},\n",
       "  {'text': 'Was hat sich bei der Bahn Regio Bayern verändert das man jetzt im leeren Fahrrad Abteil sein Faltrad zusammenbauen muss? Danke für die Erklärung im Voraus . @DB_Bahn @ADFCBayern #Fahrrad #Mobilität',\n",
       "   'created_at': '2022-04-26T06:32:39.000Z',\n",
       "   'public_metrics': {'retweet_count': 0,\n",
       "    'reply_count': 0,\n",
       "    'like_count': 0,\n",
       "    'quote_count': 0},\n",
       "   'id': '1518840462781657091',\n",
       "   'author_id': '24357909'}],\n",
       " 'meta': {'newest_id': '1520295615007186944',\n",
       "  'oldest_id': '1518840462781657091',\n",
       "  'result_count': 10,\n",
       "  'next_token': 'b26v89c19zqg8o3fpytoe88bty3p5g2t3e5476kmgfurh'}}"
      ]
     },
     "execution_count": 7,
     "metadata": {},
     "output_type": "execute_result"
    }
   ],
   "source": [
    "tweets.json() "
   ]
  },
  {
   "cell_type": "code",
   "execution_count": null,
   "metadata": {},
   "outputs": [],
   "source": [
    "import pandas as pd\n",
    "\n",
    "# Save data as dictionary\n",
    "tweets_dict = tweets.json() \n",
    "\n",
    "# Extract \"data\" value from dictionary\n",
    "tweets_data = tweets_dict['data'] \n",
    "\n",
    "# Transform to pandas Dataframe\n",
    "df = pd.json_normalize(tweets_data) \n"
   ]
  },
  {
   "cell_type": "code",
   "execution_count": null,
   "metadata": {},
   "outputs": [],
   "source": [
    "# This variable hold the username or the userid of the user you want to get favorites from\n",
    "# This needs to be the users unique username \n",
    "User = \"@StackOverflow\"\n",
    "# Cursor is the search method this search query will return 20 of the users latest favourites just like the php api you referenced\n",
    "for favorite in tweepy.Cursor(api.favorites, id=User).items(20):\n",
    "    # To get diffrent data from the tweet do \"favourite\" followed by the information you want the response is the same as the api you refrenced too\n",
    "\n",
    "    #Basic information about the user who created the tweet that was favorited\n",
    "    print('\\n\\n\\nTweet Author:')\n",
    "    # Print the screen name of the tweets auther\n",
    "    print('Screen Name: '+str(favorite.user.screen_name.encode(\"utf-8\")))\n",
    "    print('Name: '+str(favorite.user.name.encode(\"utf-8\")))\n",
    "\n",
    "\n",
    "    #Basic information about the tweet that was favorited\n",
    "    print('\\nTweet:')\n",
    "    # Print the id of the tweet the user favorited\n",
    "    print('Tweet Id: '+str(favorite.id))\n",
    "    # Print the text of the tweet the user favorited\n",
    "    print('Tweet Text: '+str(favorite.text.encode(\"utf-8\")))\n",
    "    # Encoding in utf-8 is a good practice when using data from twitter that users can submit (it avoids the program crashing because it can not encode characters like emojis)\n"
   ]
  },
  {
   "cell_type": "code",
   "execution_count": null,
   "metadata": {},
   "outputs": [],
   "source": [
    "df"
   ]
  },
  {
   "cell_type": "code",
   "execution_count": null,
   "metadata": {},
   "outputs": [],
   "source": [
    "df.text[0]"
   ]
  },
  {
   "cell_type": "code",
   "execution_count": null,
   "metadata": {},
   "outputs": [],
   "source": [
    "likes = client.get_liking_users(1512355733555326982)\n"
   ]
  },
  {
   "cell_type": "code",
   "execution_count": null,
   "metadata": {},
   "outputs": [],
   "source": [
    "likes.json()"
   ]
  },
  {
   "cell_type": "markdown",
   "metadata": {},
   "source": [
    "- Auf Twitter gibt es ca. 20 Tweets pro Tag zum Thema Bahn & Fahrrad. Reicht das?\n",
    "- Nur Zugriff auf Daten der letzten 7 Tage"
   ]
  },
  {
   "cell_type": "markdown",
   "metadata": {},
   "source": [
    "https://towardsdatascience.com/collect-data-from-twitter-a-step-by-step-implementation-using-tweepy-7526fff2cb31https://towardsdatascience.com/collect-data-from-twitter-a-step-by-step-implementation-using-tweepy-7526fff2cb31"
   ]
  }
 ],
 "metadata": {
  "kernelspec": {
   "display_name": "Python 3",
   "language": "python",
   "name": "python3"
  },
  "language_info": {
   "codemirror_mode": {
    "name": "ipython",
    "version": 3
   },
   "file_extension": ".py",
   "mimetype": "text/x-python",
   "name": "python",
   "nbconvert_exporter": "python",
   "pygments_lexer": "ipython3",
   "version": "3.8.10"
  }
 },
 "nbformat": 4,
 "nbformat_minor": 4
}
