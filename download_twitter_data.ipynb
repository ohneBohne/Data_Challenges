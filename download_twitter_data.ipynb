{
 "cells": [
  {
   "cell_type": "markdown",
   "metadata": {},
   "source": [
    "# Herunterladen von Twitter-Daten zum Thema Fahrrad und DB"
   ]
  },
  {
   "cell_type": "markdown",
   "metadata": {},
   "source": [
    "In dieser Jupyter-Datei werden Daten aus Twitter heruntergeladen und in einer Pickle-Datei gespeichert. Sie werden in der Form \"YYYY-MM-DD_tweets_DB_Fahrrad\" im Ordner \"Tweets\" gespeichert. Die abgerufenen Daten in jeder Pickle-Datei sind nicht älter als 7 Tage zum Zeitpunkt des Abrufs bei Twitter. Zum Abrufen der Daten aus Twitter wird ein Developer-Account benötigt. In unserem Fall haben wir uns für den \"V2 Access Levels - Essential\" Account entschieden. Er bietet das herunterladen von 500.000 Tweets pro Montat und ist kostenlos nutzbar, gibt jedoch keine Tweets älter als 7 Tage aus.\n",
    "Weitere Informationen zu den einzelnen Accounts gibt es hier: https://developer.twitter.com/en/docs/twitter-api/getting-started/about-twitter-api (Abgerufen: 18.07.2022)"
   ]
  },
  {
   "cell_type": "markdown",
   "metadata": {},
   "source": [
    "Unsere Idee ist es daher, einzelne Pickle-Dateien für jede Woche (Beginn 01.05.2022) zu erstellen und aus ihnen ein Datenset zum Thema Fahrrad und Bahn zu erstellen, um diese Daten dann zu analysieren. Die Zusammenstellung der einzelnen Pickle-Dateien zu einem großen Datenset und die Analyse der Daten erfolgt dann in der Jupyter-Datei \"Load_Datasets.ipynb\"."
   ]
  },
  {
   "cell_type": "markdown",
   "metadata": {},
   "source": [
    "## Vorgehensweise"
   ]
  },
  {
   "cell_type": "markdown",
   "metadata": {},
   "source": [
    "Zunächst werden die benötigten Bibliotheken und Schlüssel für eine erfolgreiche Anbindung an Twitter importiert. Keys und Tokens können unter dem folgenden Link mithilfe eines gültigen Twitter-Accounts erstellt werden:  https://developer.twitter.com/en/portal/dashboard (Abgerufen: 18.07.2022)"
   ]
  },
  {
   "cell_type": "code",
   "execution_count": 1,
   "metadata": {},
   "outputs": [],
   "source": [
    "from keys import *\n",
    "import tweepy\n",
    "import pandas as pd\n",
    "import requests"
   ]
  },
  {
   "cell_type": "markdown",
   "metadata": {},
   "source": [
    "Die Einstellungen des Clients, um eine erfolgreiche Anbindung an die Twitter-API zu ermöglichen, wurden nach folgendem Tutorial gesetzt: https://www.kirenz.com/post/2021-12-10-twitter-api-v2-tweepy-and-pandas-in-python/twitter-api-v2-tweepy-and-pandas-in-python/ (Abgerufen: 18.07.2022)"
   ]
  },
  {
   "cell_type": "code",
   "execution_count": 2,
   "metadata": {},
   "outputs": [],
   "source": [
    "\n",
    "client = tweepy.Client( bearer_token=bearer_token, \n",
    "                        consumer_key=consumer_key, \n",
    "                        consumer_secret=consumer_secret, \n",
    "                        access_token=access_token, \n",
    "                        access_token_secret=access_token_secret, \n",
    "                        return_type = requests.Response,\n",
    "                        wait_on_rate_limit=True)\n"
   ]
  },
  {
   "cell_type": "markdown",
   "metadata": {},
   "source": [
    "Um bestimmte Tweets von der Twitter-API anfordern zu können, muss eine Query übergeben werden, sodass die API dann gefilterte Tweets dementsprechend zurückgeben kann. Queries können unterschiedlich aufgebaut sein. Für weitere Informationen siehe: https://medium.com/@robguilarr/making-queries-to-twitter-api-on-tweepy-66afeb7184a4 (Abgerufen: 18.07.2022)"
   ]
  },
  {
   "cell_type": "markdown",
   "metadata": {},
   "source": [
    "In der Funktion \"get_tweets\" wird eine Search-Query, sowie die maximale Anzahl der Rückgabe an gefundenen Tweets festgelegt. In dem Feld \"tweet_fields\" wird festgelegt, welche Informationen zu dem einzelnen, gefundenen Tweet geliefert werden sollen."
   ]
  },
  {
   "cell_type": "code",
   "execution_count": 3,
   "metadata": {},
   "outputs": [],
   "source": [
    "def get_tweets(query, max_results):\n",
    "    tweets = client.search_recent_tweets(query=query, \n",
    "                                        tweet_fields=['attachments',\n",
    "                                                        'author_id',\n",
    "                                                        'context_annotations',\n",
    "                                                        'conversation_id',\n",
    "                                                        'created_at',\n",
    "                                                        'geo',\n",
    "                                                        'id',\n",
    "                                                        'in_reply_to_user_id',\n",
    "                                                        'lang',\n",
    "                                                        'public_metrics',\n",
    "                                                        'referenced_tweets',\n",
    "                                                        'text'],\n",
    "                                         max_results=max_results)\n",
    "    return tweets\n"
   ]
  },
  {
   "cell_type": "markdown",
   "metadata": {},
   "source": [
    "Mithilfe von Schlüsselwörtern zum Kontext Bahn und Fahrrad soll später eine Query erstellt werden. Aus diesem Grund wurde je eine Synonym-Liste für das Wort \"Bahn\" und \"Fahrrad\" erstellt."
   ]
  },
  {
   "cell_type": "code",
   "execution_count": 4,
   "metadata": {},
   "outputs": [],
   "source": [
    "keywords = {'bahn_context':['regio',\n",
    "                            'Zug',\n",
    "                            'sbahn',\n",
    "                            'ubahn',\n",
    "                            'Stadtbahn',\n",
    "                            'Regionalbahn',\n",
    "                            'Straßenbahn',\n",
    "                            'Tram',\n",
    "                            'Bus',\n",
    "                            'Fernbus',\n",
    "                            'Stadtbus',\n",
    "                            'bahn',\n",
    "                            'ÖPNV',\n",
    "                            'ICE',\n",
    "                            'IC',\n",
    "                            'RE'],\n",
    "            'bike_context':['Fahrrad',\n",
    "                            'call a bike',\n",
    "                            'rad',\n",
    "                            'bike',\n",
    "                            'ebike',\n",
    "                            'Elektrorad',\n",
    "                            'Elektrobike',\n",
    "                            'Elektrofahrrad',\n",
    "                            'pedelec',\n",
    "                            'velo',\n",
    "                            'Mountainbike',\n",
    "                            'Trekkingbike',\n",
    "                            'Radl']\n",
    "           }"
   ]
  },
  {
   "cell_type": "markdown",
   "metadata": {},
   "source": [
    "Nun wird mthilfe der Schlüsselwörter zum Kontext Bahn und Fahrrad die Search-Query erstellt und mit der Funktion \"get_tweets\" die Anfrage an die Twitter-API übergeben. Um einen groben Überblick über die gefilterten Tweets zu erhalten, wird die Anzahl der gefundenen Tweets in seinem jeweiligen Synonym-Paar aus Bahn und Fahrrad ausgegeben. Es bleibt dabei zu berücksichtigen, dass in jedem Paar nur maximal 100 Tweets stehen können, da die Anzahl durch den Essential-Account von Twitter beschränkt ist. "
   ]
  },
  {
   "cell_type": "code",
   "execution_count": 5,
   "metadata": {},
   "outputs": [
    {
     "name": "stdout",
     "output_type": "stream",
     "text": [
      "6 results for query regio Fahrrad returned\n",
      "0 results for query regio call a bike returned\n",
      "2 results for query regio rad returned\n",
      "3 results for query regio bike returned\n",
      "0 results for query regio ebike returned\n",
      "0 results for query regio Elektrorad returned\n",
      "0 results for query regio Elektrobike returned\n",
      "0 results for query regio Elektrofahrrad returned\n",
      "1 results for query regio pedelec returned\n",
      "2 results for query regio velo returned\n",
      "0 results for query regio Mountainbike returned\n",
      "0 results for query regio Trekkingbike returned\n",
      "0 results for query regio Radl returned\n",
      "99 results for query Zug Fahrrad returned\n",
      "0 results for query Zug call a bike returned\n",
      "74 results for query Zug rad returned\n",
      "13 results for query Zug bike returned\n",
      "3 results for query Zug ebike returned\n",
      "0 results for query Zug Elektrorad returned\n",
      "0 results for query Zug Elektrobike returned\n",
      "0 results for query Zug Elektrofahrrad returned\n",
      "2 results for query Zug pedelec returned\n",
      "12 results for query Zug velo returned\n",
      "1 results for query Zug Mountainbike returned\n",
      "0 results for query Zug Trekkingbike returned\n",
      "1 results for query Zug Radl returned\n",
      "2 results for query sbahn Fahrrad returned\n",
      "0 results for query sbahn call a bike returned\n",
      "3 results for query sbahn rad returned\n",
      "1 results for query sbahn bike returned\n",
      "0 results for query sbahn ebike returned\n",
      "0 results for query sbahn Elektrorad returned\n",
      "0 results for query sbahn Elektrobike returned\n",
      "0 results for query sbahn Elektrofahrrad returned\n",
      "0 results for query sbahn pedelec returned\n",
      "0 results for query sbahn velo returned\n",
      "0 results for query sbahn Mountainbike returned\n",
      "0 results for query sbahn Trekkingbike returned\n",
      "0 results for query sbahn Radl returned\n",
      "8 results for query ubahn Fahrrad returned\n",
      "0 results for query ubahn call a bike returned\n",
      "6 results for query ubahn rad returned\n",
      "0 results for query ubahn bike returned\n",
      "0 results for query ubahn ebike returned\n",
      "0 results for query ubahn Elektrorad returned\n",
      "0 results for query ubahn Elektrobike returned\n",
      "0 results for query ubahn Elektrofahrrad returned\n",
      "0 results for query ubahn pedelec returned\n",
      "0 results for query ubahn velo returned\n",
      "0 results for query ubahn Mountainbike returned\n",
      "0 results for query ubahn Trekkingbike returned\n",
      "0 results for query ubahn Radl returned\n",
      "1 results for query Stadtbahn Fahrrad returned\n",
      "0 results for query Stadtbahn call a bike returned\n",
      "0 results for query Stadtbahn rad returned\n",
      "0 results for query Stadtbahn bike returned\n",
      "0 results for query Stadtbahn ebike returned\n",
      "0 results for query Stadtbahn Elektrorad returned\n",
      "0 results for query Stadtbahn Elektrobike returned\n",
      "0 results for query Stadtbahn Elektrofahrrad returned\n",
      "0 results for query Stadtbahn pedelec returned\n",
      "0 results for query Stadtbahn velo returned\n",
      "0 results for query Stadtbahn Mountainbike returned\n",
      "0 results for query Stadtbahn Trekkingbike returned\n",
      "0 results for query Stadtbahn Radl returned\n",
      "2 results for query Regionalbahn Fahrrad returned\n",
      "0 results for query Regionalbahn call a bike returned\n",
      "1 results for query Regionalbahn rad returned\n",
      "0 results for query Regionalbahn bike returned\n",
      "0 results for query Regionalbahn ebike returned\n",
      "0 results for query Regionalbahn Elektrorad returned\n",
      "0 results for query Regionalbahn Elektrobike returned\n",
      "0 results for query Regionalbahn Elektrofahrrad returned\n",
      "0 results for query Regionalbahn pedelec returned\n",
      "0 results for query Regionalbahn velo returned\n",
      "0 results for query Regionalbahn Mountainbike returned\n",
      "0 results for query Regionalbahn Trekkingbike returned\n",
      "0 results for query Regionalbahn Radl returned\n",
      "20 results for query Straßenbahn Fahrrad returned\n",
      "0 results for query Straßenbahn call a bike returned\n",
      "17 results for query Straßenbahn rad returned\n",
      "1 results for query Straßenbahn bike returned\n",
      "1 results for query Straßenbahn ebike returned\n",
      "0 results for query Straßenbahn Elektrorad returned\n",
      "0 results for query Straßenbahn Elektrobike returned\n",
      "0 results for query Straßenbahn Elektrofahrrad returned\n",
      "0 results for query Straßenbahn pedelec returned\n",
      "0 results for query Straßenbahn velo returned\n",
      "1 results for query Straßenbahn Mountainbike returned\n",
      "0 results for query Straßenbahn Trekkingbike returned\n",
      "1 results for query Straßenbahn Radl returned\n",
      "5 results for query Tram Fahrrad returned\n",
      "0 results for query Tram call a bike returned\n",
      "23 results for query Tram rad returned\n",
      "99 results for query Tram bike returned\n",
      "4 results for query Tram ebike returned\n",
      "0 results for query Tram Elektrorad returned\n",
      "0 results for query Tram Elektrobike returned\n",
      "0 results for query Tram Elektrofahrrad returned\n",
      "0 results for query Tram pedelec returned\n",
      "96 results for query Tram velo returned\n",
      "1 results for query Tram Mountainbike returned\n",
      "0 results for query Tram Trekkingbike returned\n",
      "0 results for query Tram Radl returned\n",
      "90 results for query Bus Fahrrad returned\n",
      "14 results for query Bus call a bike returned\n",
      "100 results for query Bus rad returned\n",
      "100 results for query Bus bike returned\n",
      "17 results for query Bus ebike returned\n",
      "0 results for query Bus Elektrorad returned\n",
      "0 results for query Bus Elektrobike returned\n",
      "0 results for query Bus Elektrofahrrad returned\n",
      "0 results for query Bus pedelec returned\n",
      "99 results for query Bus velo returned\n",
      "0 results for query Bus Mountainbike returned\n",
      "0 results for query Bus Trekkingbike returned\n",
      "3 results for query Bus Radl returned\n",
      "0 results for query Fernbus Fahrrad returned\n",
      "0 results for query Fernbus call a bike returned\n",
      "0 results for query Fernbus rad returned\n",
      "0 results for query Fernbus bike returned\n",
      "0 results for query Fernbus ebike returned\n",
      "0 results for query Fernbus Elektrorad returned\n",
      "0 results for query Fernbus Elektrobike returned\n",
      "0 results for query Fernbus Elektrofahrrad returned\n",
      "0 results for query Fernbus pedelec returned\n",
      "0 results for query Fernbus velo returned\n",
      "0 results for query Fernbus Mountainbike returned\n",
      "0 results for query Fernbus Trekkingbike returned\n",
      "0 results for query Fernbus Radl returned\n",
      "0 results for query Stadtbus Fahrrad returned\n",
      "0 results for query Stadtbus call a bike returned\n",
      "0 results for query Stadtbus rad returned\n",
      "0 results for query Stadtbus bike returned\n",
      "0 results for query Stadtbus ebike returned\n",
      "0 results for query Stadtbus Elektrorad returned\n",
      "0 results for query Stadtbus Elektrobike returned\n",
      "0 results for query Stadtbus Elektrofahrrad returned\n",
      "0 results for query Stadtbus pedelec returned\n",
      "0 results for query Stadtbus velo returned\n",
      "0 results for query Stadtbus Mountainbike returned\n",
      "0 results for query Stadtbus Trekkingbike returned\n",
      "0 results for query Stadtbus Radl returned\n",
      "100 results for query bahn Fahrrad returned\n",
      "1 results for query bahn call a bike returned\n",
      "100 results for query bahn rad returned\n",
      "15 results for query bahn bike returned\n",
      "4 results for query bahn ebike returned\n",
      "0 results for query bahn Elektrorad returned\n",
      "0 results for query bahn Elektrobike returned\n",
      "0 results for query bahn Elektrofahrrad returned\n",
      "2 results for query bahn pedelec returned\n",
      "2 results for query bahn velo returned\n",
      "1 results for query bahn Mountainbike returned\n",
      "0 results for query bahn Trekkingbike returned\n",
      "2 results for query bahn Radl returned\n",
      "100 results for query ÖPNV Fahrrad returned\n",
      "0 results for query ÖPNV call a bike returned\n",
      "100 results for query ÖPNV rad returned\n",
      "11 results for query ÖPNV bike returned\n",
      "1 results for query ÖPNV ebike returned\n",
      "0 results for query ÖPNV Elektrorad returned\n",
      "0 results for query ÖPNV Elektrobike returned\n",
      "0 results for query ÖPNV Elektrofahrrad returned\n",
      "3 results for query ÖPNV pedelec returned\n",
      "1 results for query ÖPNV velo returned\n",
      "0 results for query ÖPNV Mountainbike returned\n",
      "0 results for query ÖPNV Trekkingbike returned\n",
      "1 results for query ÖPNV Radl returned\n",
      "14 results for query ICE Fahrrad returned\n",
      "3 results for query ICE call a bike returned\n",
      "61 results for query ICE rad returned\n",
      "99 results for query ICE bike returned\n",
      "6 results for query ICE ebike returned\n",
      "0 results for query ICE Elektrorad returned\n",
      "0 results for query ICE Elektrobike returned\n",
      "0 results for query ICE Elektrofahrrad returned\n",
      "1 results for query ICE pedelec returned\n",
      "7 results for query ICE velo returned\n",
      "0 results for query ICE Mountainbike returned\n",
      "0 results for query ICE Trekkingbike returned\n",
      "0 results for query ICE Radl returned\n"
     ]
    },
    {
     "name": "stdout",
     "output_type": "stream",
     "text": [
      "1 results for query IC Fahrrad returned\n",
      "0 results for query IC call a bike returned\n",
      "12 results for query IC rad returned\n",
      "20 results for query IC bike returned\n",
      "0 results for query IC ebike returned\n",
      "0 results for query IC Elektrorad returned\n",
      "0 results for query IC Elektrobike returned\n",
      "0 results for query IC Elektrofahrrad returned\n",
      "0 results for query IC pedelec returned\n",
      "7 results for query IC velo returned\n",
      "0 results for query IC Mountainbike returned\n",
      "0 results for query IC Trekkingbike returned\n",
      "0 results for query IC Radl returned\n",
      "7 results for query RE Fahrrad returned\n",
      "99 results for query RE call a bike returned\n",
      "100 results for query RE rad returned\n",
      "99 results for query RE bike returned\n",
      "99 results for query RE ebike returned\n",
      "0 results for query RE Elektrorad returned\n",
      "0 results for query RE Elektrobike returned\n",
      "0 results for query RE Elektrofahrrad returned\n",
      "1 results for query RE pedelec returned\n",
      "99 results for query RE velo returned\n",
      "5 results for query RE Mountainbike returned\n",
      "0 results for query RE Trekkingbike returned\n",
      "0 results for query RE Radl returned\n",
      "2119 tweets where found with 1949 unique tweet_ids\n"
     ]
    }
   ],
   "source": [
    "# 192 Permutationen\n",
    "\n",
    "max_results = 100 # maximum is 100 due to ESSENTIAL access \n",
    "tweets_data = pd.DataFrame()\n",
    "for first_keyword in keywords['bahn_context']:\n",
    "    for second_keyword in keywords['bike_context']:\n",
    "        query = first_keyword + ' ' + second_keyword\n",
    "        tweets = get_tweets(query,max_results)\n",
    "        # Save data as dictionary\n",
    "        tweets_dict = tweets.json()\n",
    "        # check if tweets where found for this query\n",
    "        if 'data' in tweets_dict:\n",
    "            # Extract \"data\" value from dictionary\n",
    "            new_tweet_data = tweets_dict['data']\n",
    "            # Transform to pandas Dataframe\n",
    "            df_new_tweet_data = pd.json_normalize(new_tweet_data)\n",
    "            df_new_tweet_data['query'] = query\n",
    "            # concat dataframes with previously loaded data\n",
    "            tweets_data = pd.concat([tweets_data, df_new_tweet_data])\n",
    "            print(len(df_new_tweet_data), 'results for query', query, 'returned')           \n",
    "        else:\n",
    "            print('0 results for query', query, 'returned')\n",
    "\n",
    "print(len(tweets_data),'tweets where found with', tweets_data['id'].nunique(), 'unique tweet_ids')"
   ]
  },
  {
   "cell_type": "markdown",
   "metadata": {},
   "source": [
    "Die erfolgreich heruntergeladenen Tweets werden nun in einer Pickle-Datei gespeichert. Sie werden nach dem Schema \"YYYY-MM-DD_tweets_DB_Fahrrad\" gespeichert unter dem Ordner \"Tweets\" gespeichert."
   ]
  },
  {
   "cell_type": "code",
   "execution_count": 6,
   "metadata": {},
   "outputs": [],
   "source": [
    "save_filename = pd.Timestamp.today().strftime('%Y-%m-%d') + '_tweets_DB_Fahrrad'\n",
    "tweets_data.to_pickle('Tweets/' + save_filename)"
   ]
  },
  {
   "cell_type": "markdown",
   "metadata": {},
   "source": [
    "Die Daten wurden bis dahin noch nicht nach ihrer Sprache gefiltert. Um hier einen groben Überblick zu bekommen, welche Sprache am meisten vorhanden ist, werden die Anzahl an Tweets nach ihrere Sprache ausgegeben."
   ]
  },
  {
   "cell_type": "code",
   "execution_count": 7,
   "metadata": {},
   "outputs": [
    {
     "data": {
      "text/plain": [
       "de     953\n",
       "en     882\n",
       "fr     220\n",
       "tr      15\n",
       "qme      7\n",
       "es       7\n",
       "lv       6\n",
       "und      5\n",
       "it       4\n",
       "tl       3\n",
       "hi       3\n",
       "ja       2\n",
       "nl       2\n",
       "ro       2\n",
       "cs       2\n",
       "zxx      2\n",
       "sv       1\n",
       "in       1\n",
       "et       1\n",
       "ko       1\n",
       "Name: lang, dtype: int64"
      ]
     },
     "execution_count": 7,
     "metadata": {},
     "output_type": "execute_result"
    }
   ],
   "source": [
    "tweets_data['lang'].value_counts()"
   ]
  }
 ],
 "metadata": {
  "kernelspec": {
   "display_name": "Python 3 (ipykernel)",
   "language": "python",
   "name": "python3"
  },
  "language_info": {
   "codemirror_mode": {
    "name": "ipython",
    "version": 3
   },
   "file_extension": ".py",
   "mimetype": "text/x-python",
   "name": "python",
   "nbconvert_exporter": "python",
   "pygments_lexer": "ipython3",
   "version": "3.9.12"
  }
 },
 "nbformat": 4,
 "nbformat_minor": 4
}
